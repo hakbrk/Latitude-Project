{
 "cells": [
  {
   "cell_type": "markdown",
   "metadata": {},
   "source": [
    "# WeatherPy\n",
    "----\n",
    "\n",
    "#### Note\n",
    "* Instructions have been included for each segment. You do not have to follow them exactly, but they are included to help you think through the steps."
   ]
  },
  {
   "cell_type": "code",
   "execution_count": 1,
   "metadata": {
    "scrolled": true
   },
   "outputs": [],
   "source": [
    "# Dependencies and Setup\n",
    "import matplotlib.pyplot as plt\n",
    "import pandas as pd\n",
    "import numpy as np\n",
    "import requests\n",
    "import time\n",
    "from tqdm import tqdm_notebook\n",
    "\n",
    "# Import API key\n",
    "from api_keys import api_key\n",
    "\n",
    "# Incorporated citipy to determine city based on latitude and longitude\n",
    "from citipy import citipy\n",
    "\n",
    "# Output File (CSV)\n",
    "output_data_file = \"output_data/cities.csv\"\n",
    "\n",
    "# Range of latitudes and longitudes\n",
    "lat_range = (-90, 90)\n",
    "lng_range = (-180, 180)"
   ]
  },
  {
   "cell_type": "markdown",
   "metadata": {},
   "source": [
    "## Generate Cities List"
   ]
  },
  {
   "cell_type": "code",
   "execution_count": 2,
   "metadata": {},
   "outputs": [
    {
     "data": {
      "text/plain": [
       "2235"
      ]
     },
     "execution_count": 2,
     "metadata": {},
     "output_type": "execute_result"
    }
   ],
   "source": [
    "# List for holding lat_lngs and cities\n",
    "lat_lngs = []\n",
    "cities = []\n",
    "countries = []\n",
    "# Create a set of random lat and lng combinations\n",
    "lats = np.random.uniform(low=-90.000, high=90.000, size=10000)\n",
    "lngs = np.random.uniform(low=-180.000, high=180.000, size=10000)\n",
    "lat_lngs = zip(lats, lngs)\n",
    "\n",
    "# Identify nearest city for each lat, lng combination\n",
    "for lat_lng in lat_lngs:\n",
    "    data = citipy.nearest_city(lat_lng[0], lat_lng[1])\n",
    "    city = data.city_name\n",
    "    country = data.country_code\n",
    "    # If the city is unique, then add it to a our cities list\n",
    "    if city not in cities:\n",
    "        cities.append(city)\n",
    "        countries.append(country)\n",
    "# Print the city count to confirm sufficient count\n",
    "len(cities)"
   ]
  },
  {
   "cell_type": "markdown",
   "metadata": {},
   "source": [
    "### Perform API Calls\n",
    "* Perform a weather check on each city using a series of successive API calls.\n",
    "* Include a print log of each city as it'sbeing processed (with the city number and city name).\n"
   ]
  },
  {
   "cell_type": "code",
   "execution_count": 3,
   "metadata": {},
   "outputs": [
    {
     "data": {
      "text/html": [
       "<div>\n",
       "<style scoped>\n",
       "    .dataframe tbody tr th:only-of-type {\n",
       "        vertical-align: middle;\n",
       "    }\n",
       "\n",
       "    .dataframe tbody tr th {\n",
       "        vertical-align: top;\n",
       "    }\n",
       "\n",
       "    .dataframe thead th {\n",
       "        text-align: right;\n",
       "    }\n",
       "</style>\n",
       "<table border=\"1\" class=\"dataframe\">\n",
       "  <thead>\n",
       "    <tr style=\"text-align: right;\">\n",
       "      <th></th>\n",
       "      <th>City</th>\n",
       "      <th>Country</th>\n",
       "      <th>Lat</th>\n",
       "      <th>Lng</th>\n",
       "      <th>Temperature (F)</th>\n",
       "      <th>Humidity (%)</th>\n",
       "      <th>Cloudiness (%)</th>\n",
       "      <th>Wind Speed (mph)</th>\n",
       "    </tr>\n",
       "  </thead>\n",
       "  <tbody>\n",
       "    <tr>\n",
       "      <th>0</th>\n",
       "      <td>rikitea</td>\n",
       "      <td>pf</td>\n",
       "      <td></td>\n",
       "      <td></td>\n",
       "      <td></td>\n",
       "      <td></td>\n",
       "      <td></td>\n",
       "      <td></td>\n",
       "    </tr>\n",
       "    <tr>\n",
       "      <th>1</th>\n",
       "      <td>carbondale</td>\n",
       "      <td>us</td>\n",
       "      <td></td>\n",
       "      <td></td>\n",
       "      <td></td>\n",
       "      <td></td>\n",
       "      <td></td>\n",
       "      <td></td>\n",
       "    </tr>\n",
       "    <tr>\n",
       "      <th>2</th>\n",
       "      <td>new norfolk</td>\n",
       "      <td>au</td>\n",
       "      <td></td>\n",
       "      <td></td>\n",
       "      <td></td>\n",
       "      <td></td>\n",
       "      <td></td>\n",
       "      <td></td>\n",
       "    </tr>\n",
       "    <tr>\n",
       "      <th>3</th>\n",
       "      <td>tuktoyaktuk</td>\n",
       "      <td>ca</td>\n",
       "      <td></td>\n",
       "      <td></td>\n",
       "      <td></td>\n",
       "      <td></td>\n",
       "      <td></td>\n",
       "      <td></td>\n",
       "    </tr>\n",
       "    <tr>\n",
       "      <th>4</th>\n",
       "      <td>esperance</td>\n",
       "      <td>au</td>\n",
       "      <td></td>\n",
       "      <td></td>\n",
       "      <td></td>\n",
       "      <td></td>\n",
       "      <td></td>\n",
       "      <td></td>\n",
       "    </tr>\n",
       "    <tr>\n",
       "      <th>5</th>\n",
       "      <td>hobart</td>\n",
       "      <td>au</td>\n",
       "      <td></td>\n",
       "      <td></td>\n",
       "      <td></td>\n",
       "      <td></td>\n",
       "      <td></td>\n",
       "      <td></td>\n",
       "    </tr>\n",
       "  </tbody>\n",
       "</table>\n",
       "</div>"
      ],
      "text/plain": [
       "          City Country Lat Lng Temperature (F) Humidity (%) Cloudiness (%)  \\\n",
       "0      rikitea      pf                                                       \n",
       "1   carbondale      us                                                       \n",
       "2  new norfolk      au                                                       \n",
       "3  tuktoyaktuk      ca                                                       \n",
       "4    esperance      au                                                       \n",
       "5       hobart      au                                                       \n",
       "\n",
       "  Wind Speed (mph)  \n",
       "0                   \n",
       "1                   \n",
       "2                   \n",
       "3                   \n",
       "4                   \n",
       "5                   "
      ]
     },
     "execution_count": 3,
     "metadata": {},
     "output_type": "execute_result"
    }
   ],
   "source": [
    "city_data = {'City' : cities, 'Country' : countries}\n",
    "city_data_df = pd.DataFrame(city_data)\n",
    "city_data_df['Lat'] = ''\n",
    "city_data_df['Lng'] = ''\n",
    "city_data_df['Temperature (F)'] = ''\n",
    "city_data_df['Humidity (%)'] = ''\n",
    "city_data_df['Cloudiness (%)'] = ''\n",
    "city_data_df['Wind Speed (mph)'] = ''\n",
    "city_data_df.head(6)"
   ]
  },
  {
   "cell_type": "code",
   "execution_count": 4,
   "metadata": {},
   "outputs": [],
   "source": [
    "#units = 'Imperial'\n",
    "#url = \"http://api.openweathermap.org/data/2.5/weather?\"\n",
    "#query_url = f\"{url}appid={api_key}&units={units}&q=saleaula,ws\"\n",
    "#print(query_url)"
   ]
  },
  {
   "cell_type": "code",
   "execution_count": null,
   "metadata": {
    "scrolled": true
   },
   "outputs": [
    {
     "data": {
      "application/vnd.jupyter.widget-view+json": {
       "model_id": "27c5bf9c911d4e7c8cca99aec42c7598",
       "version_major": 2,
       "version_minor": 0
      },
      "text/plain": [
       "HBox(children=(IntProgress(value=0, max=2235), HTML(value='')))"
      ]
     },
     "metadata": {},
     "output_type": "display_data"
    }
   ],
   "source": [
    "temp = []\n",
    "units = 'Imperial'\n",
    "url = \"http://api.openweathermap.org/data/2.5/weather?\"\n",
    "query_url = f\"{url}appid={api_key}&units={units}&q=\"\n",
    "# Loop through the cities_pd and run a lat/long search for each city\n",
    "for index, row in tqdm_notebook(list(city_data_df.iterrows())):\n",
    "    \n",
    "    city = row['City']\n",
    "    country = row['Country']\n",
    "    response = requests.get(query_url + city +',' + country).json()\n",
    "    \n",
    "    try:\n",
    "        #print(f\"Data is being retieved for {city}, {country}.\")\n",
    "        city_data_df.loc[index, 'Lng'] = response['coord']['lon']\n",
    "        city_data_df.loc[index, 'Temperature (F)'] = response['main']['temp']\n",
    "        city_data_df.loc[index, 'Humidity (%)'] = response['main']['humidity']\n",
    "        city_data_df.loc[index, 'Lat'] = response['coord']['lat']\n",
    "        city_data_df.loc[index, 'Cloudiness (%)'] = response['clouds']['all']\n",
    "        city_data_df.loc[index, 'Wind Speed (mph)'] = response['wind']['speed']\n",
    "    except (KeyError, IndexError):\n",
    "        #print(\"Missing field/result... skipping.\")\n",
    "        city_data_df.loc[index, 'Temperature (F)'] = np.nan\n",
    "        city_data_df.loc[index, 'Humidity (%)'] = np.nan\n",
    "        city_data_df.loc[index, 'Lat'] = np.nan\n",
    "        city_data_df.loc[index, 'Lng'] = np.nan\n",
    "        city_data_df.loc[index, 'Cloudiness (%)'] = np.nan\n",
    "        city_data_df.loc[index, 'Wind Speed (mph)'] = np.nan"
   ]
  },
  {
   "cell_type": "code",
   "execution_count": null,
   "metadata": {},
   "outputs": [],
   "source": [
    "#replace humidity reading over 100% with NaN\n",
    "for _, row in city_data_df.iterrows():\n",
    "    if row['Humidity (%)'] > 100:\n",
    "        row['Humidity (%)'] = np.nan"
   ]
  },
  {
   "cell_type": "code",
   "execution_count": null,
   "metadata": {},
   "outputs": [],
   "source": [
    "# Drop Rows with NaN Values\n",
    "city_data_df = city_data_df.dropna()"
   ]
  },
  {
   "cell_type": "code",
   "execution_count": null,
   "metadata": {},
   "outputs": [],
   "source": [
    "# Visualize Data\n",
    "city_data_df.describe()"
   ]
  },
  {
   "cell_type": "markdown",
   "metadata": {},
   "source": [
    "### Convert Raw Data to DataFrame\n",
    "* Export the city data into a .csv.\n",
    "* Display the DataFrame"
   ]
  },
  {
   "cell_type": "code",
   "execution_count": null,
   "metadata": {},
   "outputs": [],
   "source": [
    "#Export to CSV file\n",
    "city_data_df.to_csv('City_Weather.csv', index=False)"
   ]
  },
  {
   "cell_type": "code",
   "execution_count": null,
   "metadata": {},
   "outputs": [],
   "source": [
    "city_data_df.head()"
   ]
  },
  {
   "cell_type": "markdown",
   "metadata": {},
   "source": [
    "### Plotting the Data\n",
    "* Use proper labeling of the plots using plot titles (including date of analysis) and axes labels.\n",
    "* Save the plotted figures as .pngs."
   ]
  },
  {
   "cell_type": "markdown",
   "metadata": {},
   "source": [
    "#### Latitude vs. Temperature Plot"
   ]
  },
  {
   "cell_type": "code",
   "execution_count": null,
   "metadata": {},
   "outputs": [],
   "source": [
    "city_data_df['color'] = ''\n",
    "for _, row in city_data_df.iterrows():\n",
    "    if row['Temperature (F)'] < 40:\n",
    "        row['color'] = 'darkblue'\n",
    "    if row['Temperature (F)'] > 40:\n",
    "        row['color'] = 'dodgerblue'\n",
    "    if row['Temperature (F)'] > 60:\n",
    "        row['color'] = 'skyblue'\n",
    "    if row['Temperature (F)'] > 70:\n",
    "        row['color'] = 'gold'\n",
    "    if row['Temperature (F)'] > 80:\n",
    "        row['color'] = 'orange'\n",
    "    if row['Temperature (F)'] > 90:\n",
    "        row['color'] = 'red'"
   ]
  },
  {
   "cell_type": "code",
   "execution_count": null,
   "metadata": {},
   "outputs": [],
   "source": [
    "# Added due to error with date response from server\n",
    "try:\n",
    "    date = pd.to_datetime(response['dt'], unit = 's').strftime('%m-%d-%Y')\n",
    "\n",
    "except (KeyError, IndexError, ValueError):\n",
    "    date = 'Date not available'\n",
    "        "
   ]
  },
  {
   "cell_type": "code",
   "execution_count": null,
   "metadata": {},
   "outputs": [],
   "source": [
    "# List of values x_axis values\n",
    "x_axis = city_data_df['Lat']\n",
    "data = city_data_df['Temperature (F)']\n",
    "color = city_data_df['color']\n",
    "\n",
    "#Plot scatter\n",
    "plt.scatter(x_axis, data, marker=\"o\", facecolors= color , edgecolors=\"black\", alpha=0.70)\n",
    "\n",
    "#Format plot\n",
    "plt.grid()\n",
    "plt.xlabel('Latitude', size='12')\n",
    "plt.ylabel('Temperature (F)', size='12')\n",
    "plt.title(f\"City Latitude vs Temperature ({date})\", size='14')\n",
    "plt.tight_layout()\n",
    "plt.savefig('LatvTemp')\n",
    "plt.show()"
   ]
  },
  {
   "cell_type": "markdown",
   "metadata": {},
   "source": [
    "#### Latitude vs. Humidity Plot"
   ]
  },
  {
   "cell_type": "code",
   "execution_count": null,
   "metadata": {},
   "outputs": [],
   "source": [
    "# List of values x_axis values\n",
    "x_axis = city_data_df['Lat']\n",
    "data = city_data_df['Humidity (%)']\n",
    "#color = city_data_df['color']\n",
    "\n",
    "#Plot scatter\n",
    "plt.scatter(x_axis, data, marker=\"o\", facecolors= 'dodgerblue' , edgecolors=\"black\", alpha=0.70)\n",
    "\n",
    "#Format plot\n",
    "plt.grid()\n",
    "plt.xlabel('Latitude', size='12')\n",
    "plt.ylabel('Humidity (%)', size='12')\n",
    "plt.title(f\"City Latitude vs Humidity ({date})\", size='14')\n",
    "plt.tight_layout()\n",
    "plt.savefig('LatvHum')\n",
    "plt.show()"
   ]
  },
  {
   "cell_type": "markdown",
   "metadata": {},
   "source": [
    "#### Latitude vs. Cloudiness Plot"
   ]
  },
  {
   "cell_type": "code",
   "execution_count": null,
   "metadata": {},
   "outputs": [],
   "source": [
    "# List of values x_axis values\n",
    "x_axis = city_data_df['Lat']\n",
    "data = city_data_df['Cloudiness (%)']\n",
    "#color = city_data_df['color']\n",
    "\n",
    "#Plot scatter\n",
    "plt.scatter(x_axis, data, marker=\"o\", facecolors= 'dodgerblue' , edgecolors=\"black\", alpha=0.70)\n",
    "\n",
    "#Format plot\n",
    "plt.grid()\n",
    "plt.xlabel('Latitude', size='12')\n",
    "plt.ylabel('Cloudiness (%)', size='12')\n",
    "plt.title(f\"City Latitude vs Cloudiness ({date})\", size='14')\n",
    "plt.tight_layout()\n",
    "plt.savefig('LatvCloud')\n",
    "plt.show()"
   ]
  },
  {
   "cell_type": "markdown",
   "metadata": {},
   "source": [
    "#### Latitude vs. Wind Speed Plot"
   ]
  },
  {
   "cell_type": "code",
   "execution_count": null,
   "metadata": {},
   "outputs": [],
   "source": [
    "# List of values x_axis values\n",
    "x_axis = city_data_df['Lat']\n",
    "data = city_data_df['Wind Speed (mph)']\n",
    "#color = city_data_df['color']\n",
    "\n",
    "#Plot scatter\n",
    "plt.scatter(x_axis, data, marker=\"o\", facecolors= 'dodgerblue' , edgecolors=\"black\", alpha=0.70)\n",
    "\n",
    "#Format plot\n",
    "plt.grid()\n",
    "plt.xlabel('Latitude', size='12')\n",
    "plt.ylabel('Wind Speed (mph)', size='12')\n",
    "plt.title(f\"City Latitude vs Wind Speed ({date})\", size='14')\n",
    "plt.tight_layout()\n",
    "plt.savefig('LatvWind')\n",
    "plt.show()"
   ]
  },
  {
   "cell_type": "code",
   "execution_count": null,
   "metadata": {},
   "outputs": [],
   "source": []
  }
 ],
 "metadata": {
  "anaconda-cloud": {},
  "kernel_info": {
   "name": "python3"
  },
  "kernelspec": {
   "display_name": "Python 3",
   "language": "python",
   "name": "python3"
  },
  "language_info": {
   "codemirror_mode": {
    "name": "ipython",
    "version": 3
   },
   "file_extension": ".py",
   "mimetype": "text/x-python",
   "name": "python",
   "nbconvert_exporter": "python",
   "pygments_lexer": "ipython3",
   "version": "3.7.3"
  },
  "nteract": {
   "version": "0.12.3"
  }
 },
 "nbformat": 4,
 "nbformat_minor": 2
}
